{
 "cells": [
  {
   "cell_type": "code",
   "execution_count": null,
   "metadata": {},
   "outputs": [],
   "source": [
    "# Introduction\n",
    "# We aim to explore the computational approach of learning from interaction with \n",
    "# the environment\n",
    "# We explore reinforcement learning which evaluates various learning techniques\n",
    "# through mathematical analysis or computational experimentation.\n",
    "# Reinforcement Learning is focused on goal directed learning through interactions\n",
    "# with the environment\n",
    "\n",
    "# The core components of Reinforcement Learning are:\n",
    "# Agent: The entity we are trying to train to operate in the environment\n",
    "# State: The current observed situation that our agent is in\n",
    "# Reward: A scalar value representing the incentive we receive for being in a specific state\n",
    "# Return/Goal: The total cumulative reward of the agent till the end of an episode for being in a specific state\n",
    "# Policy: The decision making component of our agent which maps states to actions\n",
    "# Model: Our agents interpretation of how the environment behaves"
   ]
  }
 ],
 "metadata": {
  "language_info": {
   "name": "python"
  },
  "orig_nbformat": 4
 },
 "nbformat": 4,
 "nbformat_minor": 2
}
