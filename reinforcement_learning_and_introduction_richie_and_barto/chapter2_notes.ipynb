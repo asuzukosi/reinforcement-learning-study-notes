{
 "cells": [
  {
   "cell_type": "code",
   "execution_count": null,
   "metadata": {},
   "outputs": [],
   "source": [
    "# The K armed bandit problem is a simplified version of the full RL problem\n",
    "# It creates a problem where we can take multiple actions and receive\n",
    "# different rewards, but we remain in the same state"
   ]
  }
 ],
 "metadata": {
  "language_info": {
   "name": "python"
  },
  "orig_nbformat": 4
 },
 "nbformat": 4,
 "nbformat_minor": 2
}
