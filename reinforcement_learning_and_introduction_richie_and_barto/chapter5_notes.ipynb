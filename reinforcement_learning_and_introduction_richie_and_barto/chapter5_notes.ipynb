{
 "cells": [
  {
   "cell_type": "code",
   "execution_count": null,
   "metadata": {},
   "outputs": [],
   "source": [
    "# In this chapter we cover Monte Carlo methods for reinforcement learning\n",
    "# MC methods are RL methods which learn the value functions and policy from experience by averaging the returns \n",
    "# that are gotten from a state from the episodes.\n",
    "# It uses averaging from the returns in the episodes to converge at the value function following a particular policy\n",
    "# the value function gotten from that evaluation (which in MC is called prediction) is then used to improve the policy\n",
    "# This is similar to DP except that there is no full model of the environment. But it still uses the general policy iteration system\n",
    "# In monte carlo methods we use compute returns and not partial returns"
   ]
  },
  {
   "cell_type": "code",
   "execution_count": 1,
   "metadata": {},
   "outputs": [
    {
     "data": {
      "text/plain": [
       "[2, 3]"
      ]
     },
     "execution_count": 1,
     "metadata": {},
     "output_type": "execute_result"
    }
   ],
   "source": [
    "my_list = [1, 2, 3]\n",
    "my_list[1:]"
   ]
  },
  {
   "cell_type": "code",
   "execution_count": 2,
   "metadata": {},
   "outputs": [
    {
     "name": "stdout",
     "output_type": "stream",
     "text": [
      "hello\n",
      "name\n"
     ]
    }
   ],
   "source": [
    "my_dict = {\"hello\": \"there\", \"name\": \"kosi\"}\n",
    "\n",
    "for i in my_dict:\n",
    "    print(i)"
   ]
  },
  {
   "cell_type": "code",
   "execution_count": null,
   "metadata": {},
   "outputs": [],
   "source": [
    "import numpy as np\n",
    "\n",
    "# compute episode simulates an entire episode and returns all the states and returns from that episode\n",
    "def compute_episode(policy):\n",
    "    # returns a list of states and rewards\n",
    "    return [], []\n",
    "\n",
    "def compute_return(returns, discount):\n",
    "    if len(returns) == 0:\n",
    "        return 0\n",
    "    return returns[0] + (discount * compute_return(returns[1:]), discount)\n",
    "\n",
    "# My algorithm for first visit monte carlo methods\n",
    "def first_visit_monte_carlo(num_episodes, policy, discount):\n",
    "    state_value_list = dict()\n",
    "    for _ in len(num_episodes):\n",
    "        states, returns = compute_episode(policy, discount)\n",
    "        seen_states_this_episode = []\n",
    "        for index, (state, r) in enumerate(zip(states, returns)):\n",
    "            # compute the returns for that state\n",
    "            if state not in state_value_list:\n",
    "                state_value_list[state] = []\n",
    "            # if the state has not bee seen this episode(ie first visit MC) then compute returns\n",
    "            if state not in seen_states_this_episode:\n",
    "                state_value_list[state].append(compute_return(returns[index:]))\n",
    "                seen_states_this_episode.append(state)\n",
    "            \n",
    "    # at the end of all the episodes find the mean for each state value list know the actual value of each state\n",
    "    state_value = dict()\n",
    "    for state in state_value_list:\n",
    "        state_value[state] = np.mean(state_value_list[state])\n",
    "        \n",
    "    return state_value\n",
    "            "
   ]
  }
 ],
 "metadata": {
  "kernelspec": {
   "display_name": "venv",
   "language": "python",
   "name": "python3"
  },
  "language_info": {
   "codemirror_mode": {
    "name": "ipython",
    "version": 3
   },
   "file_extension": ".py",
   "mimetype": "text/x-python",
   "name": "python",
   "nbconvert_exporter": "python",
   "pygments_lexer": "ipython3",
   "version": "3.11.3"
  },
  "orig_nbformat": 4
 },
 "nbformat": 4,
 "nbformat_minor": 2
}
